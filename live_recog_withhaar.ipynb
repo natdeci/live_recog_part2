{
 "cells": [
  {
   "cell_type": "code",
   "execution_count": 1,
   "metadata": {},
   "outputs": [],
   "source": [
    "import cv2\n",
    "import numpy\n",
    "import os\n",
    "import face_recognition\n",
    "import datetime"
   ]
  },
  {
   "cell_type": "code",
   "execution_count": 2,
   "metadata": {},
   "outputs": [],
   "source": [
    "alg = \"haarcascade_frontalface_default.xml\"\n",
    "haar_cascade = cv2.CascadeClassifier(alg)"
   ]
  },
  {
   "cell_type": "code",
   "execution_count": 3,
   "metadata": {},
   "outputs": [
    {
     "name": "stdout",
     "output_type": "stream",
     "text": [
      "['Bapallua', 'Nathan', 'Putra']\n"
     ]
    }
   ],
   "source": [
    "path = 'known_faces'\n",
    "images = []\n",
    "classNames = []\n",
    "faceList = os.listdir(path)\n",
    "\n",
    "for x, cl in enumerate(faceList):\n",
    "    curImg = cv2.imread(f'{path}/{cl}')\n",
    "    images.append(curImg)\n",
    "    classNames.append(os.path.splitext(cl)[0])\n",
    "\n",
    "print(classNames)"
   ]
  },
  {
   "cell_type": "code",
   "execution_count": 4,
   "metadata": {},
   "outputs": [],
   "source": [
    "def findEncodings(images):\n",
    "    encodeList = []\n",
    "    for img in images:\n",
    "        img = cv2.cvtColor(img, cv2.COLOR_BGR2RGB)\n",
    "        encode = face_recognition.face_encodings(img)[0]\n",
    "        encodeList.append(encode)\n",
    "    return encodeList\n",
    "\n",
    "encodeListKnown = findEncodings(images)"
   ]
  },
  {
   "cell_type": "code",
   "execution_count": 8,
   "metadata": {},
   "outputs": [
    {
     "name": "stdout",
     "output_type": "stream",
     "text": [
      "<class 'numpy.ndarray'>\n"
     ]
    }
   ],
   "source": [
    "test_img = cv2.imread(\"realmadrid.jpg\")\n",
    "facesCurFrame = haar_cascade.detectMultiScale(test_img, scaleFactor=1.1, minNeighbors=2, minSize=(150,150))\n",
    "print(type(facesCurFrame))"
   ]
  },
  {
   "cell_type": "code",
   "execution_count": 14,
   "metadata": {},
   "outputs": [],
   "source": [
    "cap = cv2.VideoCapture(0)\n",
    "\n",
    "while True:\n",
    "    success, img = cap.read()\n",
    "    if not success:\n",
    "        print(\"Failed to grab frame\")\n",
    "        break\n",
    "\n",
    "    img_small = cv2.resize(img, (0, 0), fx=0.25, fy=0.25)\n",
    "    \n",
    "    gray = cv2.cvtColor(img_small, cv2.COLOR_BGR2GRAY)\n",
    "    \n",
    "    faces = haar_cascade.detectMultiScale(gray, scaleFactor=1.5, minNeighbors=3, minSize=(10, 10))\n",
    "    \n",
    "    encodesCurFrame = []\n",
    "    face_locations = []\n",
    "\n",
    "    for (x, y, w, h) in faces:\n",
    "        top, right, bottom, left = y, x + w, y + h, x\n",
    "        face_locations.append((top, right, bottom, left))\n",
    "        face_roi = img_small[top:bottom, left:right]\n",
    "        face_rgb = cv2.cvtColor(face_roi, cv2.COLOR_BGR2RGB)\n",
    "        encodings = face_recognition.face_encodings(face_rgb)\n",
    "        \n",
    "        if encodings:\n",
    "            encodesCurFrame.append(encodings[0])\n",
    "\n",
    "    for encodeFace, faceLoc in zip(encodesCurFrame, face_locations):\n",
    "        matches = face_recognition.compare_faces(encodeListKnown, encodeFace)\n",
    "        face_distances = face_recognition.face_distance(encodeListKnown, encodeFace)\n",
    "        \n",
    "        matchIndex = numpy.argmin(face_distances) if face_distances.size > 0 else None\n",
    "        \n",
    "        if matchIndex is not None and face_distances[matchIndex] < 0.50:\n",
    "            name = classNames[matchIndex].upper()\n",
    "        else:\n",
    "            name = \"Unknown\"\n",
    "        \n",
    "        y1, x2, y2, x1 = [v * 4 for v in faceLoc]  # Scale back up to original size\n",
    "        cv2.rectangle(img, (x1, y1), (x2, y2), (0, 255, 0), 2)\n",
    "        cv2.rectangle(img, (x1, y2 - 35), (x2, y2), (0, 255, 0), cv2.FILLED)\n",
    "        cv2.putText(img, name, (x1 + 6, y2 - 6), cv2.FONT_HERSHEY_COMPLEX, 1, (255, 255, 255), 2)\n",
    "    \n",
    "    cv2.imshow('Webcam', img)\n",
    "    if cv2.waitKey(1) & 0xFF == ord('q'):\n",
    "        break\n",
    "\n",
    "cap.release()\n",
    "cv2.destroyAllWindows()"
   ]
  }
 ],
 "metadata": {
  "kernelspec": {
   "display_name": "live_recog_part2-IJnLmikL",
   "language": "python",
   "name": "python3"
  },
  "language_info": {
   "codemirror_mode": {
    "name": "ipython",
    "version": 3
   },
   "file_extension": ".py",
   "mimetype": "text/x-python",
   "name": "python",
   "nbconvert_exporter": "python",
   "pygments_lexer": "ipython3",
   "version": "3.10.7"
  }
 },
 "nbformat": 4,
 "nbformat_minor": 2
}
